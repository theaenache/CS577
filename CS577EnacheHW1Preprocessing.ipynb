{
  "nbformat": 4,
  "nbformat_minor": 0,
  "metadata": {
    "colab": {
      "provenance": [],
      "authorship_tag": "ABX9TyN+kezQENGT7lrtTeGnMfvb",
      "include_colab_link": true
    },
    "kernelspec": {
      "name": "python3",
      "display_name": "Python 3"
    },
    "language_info": {
      "name": "python"
    }
  },
  "cells": [
    {
      "cell_type": "markdown",
      "metadata": {
        "id": "view-in-github",
        "colab_type": "text"
      },
      "source": [
        "<a href=\"https://colab.research.google.com/github/theaenache/CS577/blob/main/CS577EnacheHW1Preprocessing.ipynb\" target=\"_parent\"><img src=\"https://colab.research.google.com/assets/colab-badge.svg\" alt=\"Open In Colab\"/></a>"
      ]
    },
    {
      "cell_type": "code",
      "execution_count": null,
      "metadata": {
        "id": "3V3v6hvSMSDZ"
      },
      "outputs": [],
      "source": [
        "#1\n",
        "import numpy as np\n",
        "import pandas as pd\n",
        "from sklearn.impute import SimpleImputer\n",
        "from sklearn.preprocessing import OneHotEncoder, StandardScaler\n",
        "from sklearn.model_selection import train_test_split"
      ]
    },
    {
      "cell_type": "code",
      "source": [
        "#2\n",
        "#loading into pandas df\n",
        "import pandas as pd\n",
        "df = pd.read_csv('Data.csv')\n",
        "print(df.head())"
      ],
      "metadata": {
        "colab": {
          "base_uri": "https://localhost:8080/"
        },
        "id": "S8neDkJPNkQk",
        "outputId": "5c344aaa-ef77-44c0-e501-e8bd9b11ac14"
      },
      "execution_count": null,
      "outputs": [
        {
          "output_type": "stream",
          "name": "stdout",
          "text": [
            "   Country   Age   Salary Purchased\n",
            "0   France  44.0  72000.0        No\n",
            "1    Spain  27.0  48000.0       Yes\n",
            "2  Germany  30.0  54000.0        No\n",
            "3    Spain  38.0  61000.0        No\n",
            "4  Germany  40.0      NaN       Yes\n"
          ]
        }
      ]
    },
    {
      "cell_type": "code",
      "source": [
        "#3\n",
        "print(\"Missing values per column:\", df.isna().sum())"
      ],
      "metadata": {
        "colab": {
          "base_uri": "https://localhost:8080/"
        },
        "id": "zV6UFrGoQS_R",
        "outputId": "9e5a5da1-f507-4078-daa4-d920eaef42d1"
      },
      "execution_count": null,
      "outputs": [
        {
          "output_type": "stream",
          "name": "stdout",
          "text": [
            "Missing values per column: Country      0\n",
            "Age          1\n",
            "Salary       1\n",
            "Purchased    0\n",
            "dtype: int64\n"
          ]
        }
      ]
    },
    {
      "cell_type": "code",
      "source": [
        "numeric_cols = ['Age', 'Salary']\n",
        "imputer = SimpleImputer(strategy='mean')\n",
        "df[numeric_cols] = imputer.fit_transform(df[numeric_cols])"
      ],
      "metadata": {
        "id": "cpL3Mh2AN39Y"
      },
      "execution_count": null,
      "outputs": []
    },
    {
      "cell_type": "code",
      "source": [
        "print(\"After mean imputation:\", df.head())"
      ],
      "metadata": {
        "colab": {
          "base_uri": "https://localhost:8080/"
        },
        "id": "-MO9ttk5Qv25",
        "outputId": "0ebc3504-e86a-4ebc-9171-a019f01f82fb"
      },
      "execution_count": null,
      "outputs": [
        {
          "output_type": "stream",
          "name": "stdout",
          "text": [
            "After mean imputation:    Country   Age        Salary Purchased\n",
            "0   France  44.0  72000.000000        No\n",
            "1    Spain  27.0  48000.000000       Yes\n",
            "2  Germany  30.0  54000.000000        No\n",
            "3    Spain  38.0  61000.000000        No\n",
            "4  Germany  40.0  63777.777778       Yes\n"
          ]
        }
      ]
    },
    {
      "cell_type": "code",
      "source": [
        "#4\n",
        "print(df.columns)"
      ],
      "metadata": {
        "colab": {
          "base_uri": "https://localhost:8080/"
        },
        "id": "JvLFblw1SoYH",
        "outputId": "45982e1e-66ed-4504-fc95-fc0cd6523a43"
      },
      "execution_count": null,
      "outputs": [
        {
          "output_type": "stream",
          "name": "stdout",
          "text": [
            "Index(['Country', 'Age', 'Salary', 'Purchased'], dtype='object')\n"
          ]
        }
      ]
    },
    {
      "cell_type": "code",
      "source": [
        "X = df[['Country', 'Age', 'Salary']].copy()\n",
        "#we one hot encode country, and use drop_first to avoid collinearity\n",
        "#and redundancy in order to make our regression model effective\n",
        "X = pd.get_dummies(X, columns=['Country'], drop_first=True)\n"
      ],
      "metadata": {
        "id": "LL6EhJbLRGGa"
      },
      "execution_count": null,
      "outputs": []
    },
    {
      "cell_type": "code",
      "source": [
        "print(\"Encoded features:\", X.head())"
      ],
      "metadata": {
        "colab": {
          "base_uri": "https://localhost:8080/"
        },
        "id": "BP4lhbaUTPg8",
        "outputId": "3761d4a7-658c-4e5c-95f3-32cadf6c15dc"
      },
      "execution_count": null,
      "outputs": [
        {
          "output_type": "stream",
          "name": "stdout",
          "text": [
            "Encoded features:     Age        Salary  Country_Germany  Country_Spain\n",
            "0  44.0  72000.000000            False          False\n",
            "1  27.0  48000.000000            False           True\n",
            "2  30.0  54000.000000             True          False\n",
            "3  38.0  61000.000000            False           True\n",
            "4  40.0  63777.777778             True          False\n"
          ]
        }
      ]
    },
    {
      "cell_type": "code",
      "source": [
        "#5\n",
        "y = df['Purchased'].map({'Yes': 1, 'No': 0}).astype(int).values"
      ],
      "metadata": {
        "id": "ZF41ZeRZTp0W"
      },
      "execution_count": null,
      "outputs": []
    },
    {
      "cell_type": "code",
      "source": [
        "print(\"y preview:\", y[:10])\n"
      ],
      "metadata": {
        "colab": {
          "base_uri": "https://localhost:8080/"
        },
        "id": "G7OiDePIT_5I",
        "outputId": "0c866df7-1c8e-4adc-8e42-697ed9bebf01"
      },
      "execution_count": null,
      "outputs": [
        {
          "output_type": "stream",
          "name": "stdout",
          "text": [
            "y preview: [0 1 0 0 1 1 0 1 0 1]\n"
          ]
        }
      ]
    },
    {
      "cell_type": "code",
      "source": [
        "#6, 7\n",
        "X_train, X_test, y_train, y_test = train_test_split(\n",
        "    X.values, y, test_size=0.2, shuffle=False\n",
        ")\n",
        "\n",
        "print(X_train.shape, X_test.shape, y_train.shape, y_test.shape)\n"
      ],
      "metadata": {
        "colab": {
          "base_uri": "https://localhost:8080/"
        },
        "id": "bwk7qcskTay6",
        "outputId": "13a87d8c-91ff-47fb-c62d-48620fd347a9"
      },
      "execution_count": null,
      "outputs": [
        {
          "output_type": "stream",
          "name": "stdout",
          "text": [
            "(8, 4) (2, 4) (8,) (2,)\n"
          ]
        }
      ]
    },
    {
      "cell_type": "code",
      "source": [
        "#8\n",
        "scaler = StandardScaler()\n",
        "X_train = scaler.fit_transform(X_train)\n",
        "X_test = scaler.transform(X_test)"
      ],
      "metadata": {
        "id": "OOmcFGIVUIIl"
      },
      "execution_count": null,
      "outputs": []
    },
    {
      "cell_type": "code",
      "source": [
        "#df for readability\n",
        "X_train = pd.DataFrame(X_train, columns=X.columns)\n",
        "X_test = pd.DataFrame(X_test, columns=X.columns)"
      ],
      "metadata": {
        "id": "2v6WGfQwUOLw"
      },
      "execution_count": null,
      "outputs": []
    },
    {
      "cell_type": "code",
      "source": [
        "print(\"X_train scaled head:\\n\", X_train.head())\n",
        "print(\"X_test scaled head:\\n\", X_test.head())"
      ],
      "metadata": {
        "colab": {
          "base_uri": "https://localhost:8080/"
        },
        "id": "eqy_nOIqUaUY",
        "outputId": "206dd7fc-4a58-4481-f020-1e2d050f8034"
      },
      "execution_count": null,
      "outputs": [
        {
          "output_type": "stream",
          "name": "stdout",
          "text": [
            "X_train scaled head:\n",
            "         Age    Salary  Country_Germany  Country_Spain\n",
            "0  0.991953  1.130898        -0.577350      -0.774597\n",
            "1 -1.641779 -1.330301        -0.577350       1.290994\n",
            "2 -1.177003 -0.715001         1.732051      -0.774597\n",
            "3  0.062401  0.002849        -0.577350       1.290994\n",
            "4  0.372251  0.287710         1.732051      -0.774597\n",
            "X_test scaled head:\n",
            "         Age    Salary  Country_Germany  Country_Spain\n",
            "0  1.921506  2.258948         1.732051      -0.774597\n",
            "1 -0.092525  0.618148        -0.577350      -0.774597\n"
          ]
        }
      ]
    }
  ]
}